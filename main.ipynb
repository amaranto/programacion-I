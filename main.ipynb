{
 "cells": [
  {
   "cell_type": "markdown",
   "metadata": {},
   "source": [
    "# Presentación \n",
    "\n",
    "**Alumno**: Arevalo Ezequiel Matias \n",
    "\n",
    "**DNI**: 34520876\n",
    "\n",
    "**Comision**: 3\n",
    "\n",
    "**Ciudad a analizar**: Atenas (Grecia)"
   ]
  },
  {
   "cell_type": "markdown",
   "metadata": {},
   "source": [
    "# Descarga del dataset."
   ]
  },
  {
   "cell_type": "code",
   "execution_count": 1,
   "metadata": {},
   "outputs": [
    {
     "name": "stdout",
     "output_type": "stream",
     "text": [
      "listings.csv.gz Download complete\n",
      "listings.csv.gz created. Refresh your panel to see the file in the folder tree.\n"
     ]
    },
    {
     "data": {
      "text/plain": [
       "'./listings.csv'"
      ]
     },
     "execution_count": 1,
     "metadata": {},
     "output_type": "execute_result"
    }
   ],
   "source": [
    "import requests\n",
    "import gzip \n",
    "import shutil\n",
    "from os.path import exists\n",
    "\n",
    "CONFIG={\n",
    "    \"data_path\": \"./listings.csv\",\n",
    "    \"data_url\": \"http://data.insideairbnb.com/greece/attica/athens/2022-06-17/data/listings.csv.gz\"\n",
    "}\n",
    "\n",
    "def uncompress_data(source_filename, dest_filename=CONFIG[\"data_path\"]):\n",
    "    \n",
    "    with gzip.open(source_filename, \"rb\") as f_in:\n",
    "        with open(dest_filename, \"wb\") as f_out:\n",
    "            shutil.copyfileobj(f_in, f_out)\n",
    "            return dest_filename\n",
    "\n",
    "def download_data(url=CONFIG[\"data_url\"], local_filename=CONFIG[\"data_path\"], overwrite=False, uncompress=True):\n",
    "\n",
    "    d_file=url.split('/')[-1]\n",
    "\n",
    "    if exists(local_filename) and overwrite is False:\n",
    "        print (f\"{local_filename} already exists. Set overwrite to True to force replacement.\")\n",
    "        return local_filename\n",
    "\n",
    "    try:\n",
    "        with requests.get(url, stream=True) as r:\n",
    "                r.raise_for_status()\n",
    "                with open(d_file, 'wb') as f:\n",
    "                    for chunk in r.iter_content(chunk_size=8192): \n",
    "                        f.write(chunk)\n",
    "                print( f\"{d_file} Download complete\")\n",
    "\n",
    "    except Exception as e:\n",
    "        print( str(e) )\n",
    "        return None \n",
    "    \n",
    "    try:\n",
    "        if uncompress:\n",
    "            uncompress_data(d_file, local_filename)\n",
    "            print (f\"{d_file} created. Refresh your panel to see the file in the folder tree.\")\n",
    "    except Exception as e:\n",
    "        print( str(e) )\n",
    "\n",
    "    return local_filename if uncompress else d_file\n",
    "\n",
    "download_data()"
   ]
  },
  {
   "cell_type": "code",
   "execution_count": 2,
   "metadata": {},
   "outputs": [],
   "source": [
    "# Definicion de funciones y filtros para la creacion de la estructura de datos"
   ]
  },
  {
   "cell_type": "code",
   "execution_count": 3,
   "metadata": {},
   "outputs": [],
   "source": [
    "import csv\n",
    "\n",
    "def string_to_float(value):\n",
    "      ''' Limpia el formato de un numero de una celda\n",
    "          en formato string, convirtiendolo a flotante '''   \n",
    "      return float( value.replace('$', '').replace(',', '') )\n",
    "\n",
    "def avarage(l, n_decimal=2 ):\n",
    "    ''' Calcula el promedio de una lista '''\n",
    "    return round(sum(l) / len(l), n_decimal)\n",
    "\n",
    "def count_elements(l):\n",
    "    ''' toma una lista, y retorna un diccionario\n",
    "        que asocia a cada elemento de la lista\n",
    "        el numero de veces que este aparece en la lista \n",
    "    '''\n",
    "    result = {}\n",
    "\n",
    "    for i in l: \n",
    "        if i in result:\n",
    "            result[i]+=1\n",
    "        else:\n",
    "            result[i]=1\n",
    "    return result\n",
    "    \n",
    "def create_dict(as_key, as_value, map_on_values=None):\n",
    "    ''' as_key=<String>\n",
    "        as_value=<String>\n",
    "        map_on_values=[function]\n",
    "\n",
    "        as_key: Toma como valor un string con el nombre de la columna a utilizar para filtrar los valores que seran _\n",
    "        utilizados como keys.\n",
    "\n",
    "        as_value: Toma como valor un string con el nombre de la columna que se va a utilziar para filtrar los valores _\n",
    "        que seran concatenados a una lista y asignados las disntas keys procesadas.\n",
    "\n",
    "        map_on_values: Toma una funcion que sera usada para formatear los valores antes de ser asignados al array utilizado _\n",
    "        como filtro de valores.\n",
    "    '''\n",
    "\n",
    "    with open(CONFIG[\"data_path\"], newline='', encoding=\"utf8\") as f:\n",
    "\n",
    "        d = {}\n",
    "        reader = csv.DictReader(f, delimiter=',')\n",
    "        \n",
    "        for row in reader:\n",
    "            key = row[ as_key ]\n",
    "            \n",
    "            if  key not in d.keys():\n",
    "                d[ key ] = []\n",
    "            \n",
    "            value = map_on_values(row[as_value]) if map_on_values else row[as_value]\n",
    "            d[ key ].append( value )\n",
    "        \n",
    "        return d"
   ]
  },
  {
   "cell_type": "markdown",
   "metadata": {},
   "source": [
    "# Tratamiento de los datos y creacion de las estructuras de diccionarios."
   ]
  },
  {
   "cell_type": "code",
   "execution_count": 4,
   "metadata": {},
   "outputs": [],
   "source": [
    "'''\n",
    "Se obtienen todos los precios de un barrio y se calcula su promedio.\n",
    "El diccionario de los promedios se calcula usando diccionarios por comprension.\n",
    "'''\n",
    "precio_x_barrio = create_dict(\"neighbourhood_cleansed\", \"price\", map_on_values=string_to_float ) \n",
    "promedio_precio_x_barrio= {  nc: avarage(p)  for nc,p in precio_x_barrio.items()  }\n",
    "\n",
    "\n",
    "'''\n",
    "Se obtienen todos los tipos de habitacion por barrio.\n",
    "Se crea una nueva estructura que expande al diccionario anterior, guardando por cada barrio:\n",
    "todos los tipos de habitaciones, el total de los distintos tipos de habitacioens, la cantidad\n",
    "de habitaciones de cada tipo y el porcentaje de oferta de cada tipo en el barrio.\n",
    "\n",
    "Estructura :\n",
    "expan_tipo_habitacion_x_barrio={\n",
    "  neighbourhood : {\n",
    "    \"habitaciones\" : [ list ],\n",
    "    \"total\": int,\n",
    "    \"cantidad_habitacion_x_tipo\": { \n",
    "      \"tipo habitacion\": int(cantidad)\n",
    "    },\n",
    "    \"porcentaje_habitacion_x_tipo\": {\n",
    "       \"tipo habitacion\": float(porcentaje)\n",
    "    }\n",
    "  }\n",
    "}\n",
    "'''\n",
    "\n",
    "tipo_habitacion_x_barrio = create_dict(\"neighbourhood_cleansed\", \"room_type\")\n",
    "expan_tipo_habitacion_x_barrio = {}\n",
    "for neighbourhood,room_types in tipo_habitacion_x_barrio.items():\n",
    "    expan_tipo_habitacion_x_barrio[neighbourhood]={}\n",
    "    expan_tipo_habitacion_x_barrio[neighbourhood][\"habitaciones\"]=room_types\n",
    "    expan_tipo_habitacion_x_barrio[neighbourhood][\"total\"]=len(room_types)\n",
    "    expan_tipo_habitacion_x_barrio[neighbourhood][\"cantidad_habitacion_x_tipo\"]=count_elements(room_types)\n",
    "\n",
    "    expan_tipo_habitacion_x_barrio[neighbourhood][\"porcentaje_habitacion_x_tipo\"] = {  \n",
    "        rt: (x*100)/len(room_types)  for rt,x in count_elements(room_types).items()  \n",
    "    }"
   ]
  },
  {
   "cell_type": "markdown",
   "metadata": {},
   "source": [
    "# Analisis de los datos y despliegue de los graficos."
   ]
  },
  {
   "cell_type": "markdown",
   "metadata": {},
   "source": [
    "## Importacion de los modules para graficar"
   ]
  },
  {
   "cell_type": "code",
   "execution_count": 5,
   "metadata": {},
   "outputs": [],
   "source": [
    "\n",
    "import matplotlib.pyplot as plt\n",
    "import seaborn as sns\n",
    "\n",
    "sns.set()"
   ]
  },
  {
   "cell_type": "markdown",
   "metadata": {},
   "source": [
    "## Precio promedio de los alquileres disponibles en cada barrio de Atenas"
   ]
  },
  {
   "cell_type": "code",
   "execution_count": null,
   "metadata": {},
   "outputs": [],
   "source": [
    "\n",
    "def create_bar(dictio, xlabel=None, ylabel=None, title=None):\n",
    "    plt.figure(figsize=(10, 8))\n",
    "    plt.xticks(rotation=90, fontsize=15)\n",
    "    plt.yticks(fontsize=15)\n",
    "    plt.xlabel(xlabel, fontsize=10)\n",
    "    plt.ylabel(ylabel, fontsize=10)\n",
    "    plt.title(title, fontsize=20)\n",
    "    plt.bar(dictio.keys(), dictio.values())        \n",
    "\n",
    "create_bar(promedio_precio_x_barrio, 'barrios', 'precio promedio', 'precio promedio por barrio')\n",
    "\n",
    "plt.show()\n"
   ]
  },
  {
   "cell_type": "markdown",
   "metadata": {},
   "source": [
    "## Porcentaje de ofertas de cada tipo de alojamiento sobre el total de ofertas de cada barrio"
   ]
  },
  {
   "cell_type": "code",
   "execution_count": null,
   "metadata": {},
   "outputs": [],
   "source": [
    "\n",
    "def create_pie(clave, dictio, name=None):\n",
    "    plt.figure(figsize=(3, 3))\n",
    "    plt.title(name, fontsize=10)\n",
    "    plt.pie(\n",
    "        dictio.values(), \n",
    "        labels=dictio.keys()\n",
    "        ,autopct='%.0f%%',\n",
    "        textprops={'size': 'smaller'},\n",
    "        shadow=True, radius=1\n",
    "    )\n",
    "\n",
    "for barrio, values in expan_tipo_habitacion_x_barrio.items():\n",
    "    create_pie(barrio, values[\"porcentaje_habitacion_x_tipo\"], \"tipos de habitaciones en {0}\".format(barrio))\n",
    "\n",
    "plt.show()"
   ]
  }
 ],
 "metadata": {
  "kernelspec": {
   "display_name": "Python 3.9.6 64-bit",
   "language": "python",
   "name": "python3"
  },
  "language_info": {
   "codemirror_mode": {
    "name": "ipython",
    "version": 3
   },
   "file_extension": ".py",
   "mimetype": "text/x-python",
   "name": "python",
   "nbconvert_exporter": "python",
   "pygments_lexer": "ipython3",
   "version": "3.9.6"
  },
  "orig_nbformat": 4,
  "vscode": {
   "interpreter": {
    "hash": "448c92d7a7b0f1a5c08e58df84f1723d1d13364debbc5703c41cfbc4d6a32844"
   }
  }
 },
 "nbformat": 4,
 "nbformat_minor": 2
}
